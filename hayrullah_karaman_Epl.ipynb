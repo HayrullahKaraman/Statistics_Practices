{
  "nbformat": 4,
  "nbformat_minor": 0,
  "metadata": {
    "colab": {
      "name": "hayrullah_karaman_Epl.ipynb",
      "provenance": [],
      "collapsed_sections": [],
      "toc_visible": true
    },
    "kernelspec": {
      "name": "python3",
      "display_name": "Python 3"
    },
    "language_info": {
      "name": "python"
    }
  },
  "cells": [
    {
      "cell_type": "code",
      "execution_count": null,
      "metadata": {
        "id": "m0rd2aYbZLP6"
      },
      "outputs": [],
      "source": [
        "##İngiltere Primier lig(EPL) 2020-2021 sezonu takım futbolcuların elde edilen bilgileri ile oluşturulmuş verisetidir"
      ]
    },
    {
      "cell_type": "markdown",
      "source": [
        "#Datasetin kısa bilgisi\n",
        "*   Name            = Oyuncunun İsmi\n",
        "*   Club            = Oyuncunun oynadığı takım\n",
        "*   Nationality     = Oyuncunun uyruğu\n",
        "*   Position        = Oyuncunun oynadığı pozisyonlar\n",
        "*   Age             = Oyuncunun yaşı\n",
        "*   Matches         = 2020-2021 Oyuncunun oynadığı maç sayısı\n",
        "*   Starts          = 2020-2021 sezonunda ilk 11 maca başlama sıyısı\n",
        "*   Mins            = 2020-2021 sezonunda toplam oynadığı dakika\n",
        "*   Goals           = 2020-2021 sezonunda oyuncunun atığı gol sayısı \n",
        "*   Assists         = 2020-2021 sezonunda oyuncunun yaptığı asist sayısı \n",
        "* Passes_Attempted  = 2020-2021 sezonunda oyuncunun denediği pas sayısı\n",
        "* Perc_Passes_Comp  = Oyuncunun başarılı pas sayısı\n",
        "* Penalty_Goals     = Oyuncunun Başarılı kullandığı penaltı sayısı\n",
        "* Penalty_Attempted = Oyuncunun toplam kullandığı penaltı sayısı\n",
        "*   xG              = Bir maçta oyuncudan beklenen gol sayısı\n",
        "*   xA              = Bir maçta oyuncudan beklenen assist sayısı \n",
        "*   Yellow Cards    = 2020-2021 sezonunda oyuncunun aldığı sarı kart\n",
        "*   Red Cards       = 2020-2021 sezonunda oyuncunun aldığı kırmızı kart\n",
        "\n",
        "18 adet değişkenden oluşmaktadır.\n",
        "\n",
        "\n",
        "\n",
        "\n",
        "\n",
        "\n",
        "\n",
        "\n",
        "\n"
      ],
      "metadata": {
        "id": "BwczCBowZ7L_"
      }
    },
    {
      "cell_type": "markdown",
      "source": [
        "#Kütüphaneler ve dataset import"
      ],
      "metadata": {
        "id": "JY_yu94N30cw"
      }
    },
    {
      "cell_type": "code",
      "source": [
        "## İmport Libary\n",
        "import pandas as pd\n",
        "import seaborn as sns\n",
        "import matplotlib.pyplot as plt\n",
        "import scipy.stats as stats\n",
        "import pylab\n",
        "from scipy.stats import shapiro\n",
        "from statsmodels.stats.descriptivestats import sign_test\n",
        "from sklearn.utils import shuffle"
      ],
      "metadata": {
        "id": "zPMNSO51gpj4"
      },
      "execution_count": 10,
      "outputs": []
    },
    {
      "cell_type": "code",
      "source": [
        "## Dataset Loading ve df değişkenine atama\n",
        "df = pd.read_csv('/content/EPL_20_21.csv')\n",
        "dfo=pd.read_csv('/content/epl2020.csv')#ikili örneklem T testi için kullanılıyor"
      ],
      "metadata": {
        "id": "jVX5wko1qVxy"
      },
      "execution_count": 3,
      "outputs": []
    },
    {
      "cell_type": "markdown",
      "source": [
        "#Datset hakkında kısa bilgiler"
      ],
      "metadata": {
        "id": "jTWjyCX03_ox"
      }
    },
    {
      "cell_type": "code",
      "source": [
        "## dataset head ilk beş veri\n",
        "#df.head(10)\n",
        "ds = shuffle(df)# rasgele örneklem gösterimi\n",
        "print(ds)"
      ],
      "metadata": {
        "id": "DB86qAzMwD3Z",
        "colab": {
          "base_uri": "https://localhost:8080/"
        },
        "outputId": "6d1c86d5-9a31-4663-b036-98a21f6bfd48"
      },
      "execution_count": 18,
      "outputs": [
        {
          "output_type": "stream",
          "name": "stdout",
          "text": [
            "                   Name                     Club Nationality Position  Age  \\\n",
            "215       Illan Meslier             Leeds United         FRA       GK   20   \n",
            "192       Thomas Partey                  Arsenal         GHA       MF   27   \n",
            "70    Donny van de Beek        Manchester United         NED    MF,FW   23   \n",
            "18   Callum Hudson-Odoi                  Chelsea         ENG    FW,DF   19   \n",
            "60           Paul Pogba        Manchester United         FRA    MF,FW   27   \n",
            "..                  ...                      ...         ...      ...  ...   \n",
            "383      Fraser Forster              Southampton         ENG       GK   32   \n",
            "254      Anthony Gordon                  Everton         ENG    FW,MF   19   \n",
            "136     Aaron Cresswell          West Ham United         ENG       DF   30   \n",
            "331     Fernando Marçal  Wolverhampton Wanderers         BRA       DF   31   \n",
            "133          Wes Morgan           Leicester City         JAM       DF   36   \n",
            "\n",
            "     Matches  Starts  Mins  Goals  Assists  Passes_Attempted  \\\n",
            "215       35      35  3150      0        0              1348   \n",
            "192       24      18  1534      0        2              1112   \n",
            "70        19       4   524      1        1               279   \n",
            "18        23      10  1059      2        3               659   \n",
            "60        26      21  1897      3        3              1343   \n",
            "..       ...     ...   ...    ...      ...               ...   \n",
            "383        8       8   720      0        0               274   \n",
            "254        3       1    88      0        0                26   \n",
            "136       36      36  3170      0        8              2060   \n",
            "331       13       7   623      0        0               370   \n",
            "133        3       0    18      0        0                 5   \n",
            "\n",
            "     Perc_Passes_Completed  Penalty_Goals  Penalty_Attempted    xG    xA  \\\n",
            "215                   80.9              0                  0  0.00  0.00   \n",
            "192                   86.9              0                  0  0.08  0.06   \n",
            "70                    84.2              0                  0  0.05  0.17   \n",
            "18                    82.2              0                  0  0.12  0.26   \n",
            "60                    82.8              0                  0  0.10  0.10   \n",
            "..                     ...            ...                ...   ...   ...   \n",
            "383                   56.2              0                  0  0.00  0.00   \n",
            "254                   84.6              0                  0  0.00  0.03   \n",
            "136                   74.8              0                  0  0.03  0.17   \n",
            "331                   82.7              0                  0  0.01  0.02   \n",
            "133                  100.0              0                  0  0.00  0.00   \n",
            "\n",
            "     Yellow_Cards  Red_Cards  \n",
            "215             0          0  \n",
            "192             5          0  \n",
            "70              1          0  \n",
            "18              0          0  \n",
            "60              3          0  \n",
            "..            ...        ...  \n",
            "383             0          0  \n",
            "254             0          0  \n",
            "136             3          0  \n",
            "331             2          0  \n",
            "133             0          0  \n",
            "\n",
            "[532 rows x 18 columns]\n"
          ]
        }
      ]
    },
    {
      "cell_type": "code",
      "source": [
        "## Datset son 5 \n",
        "df.tail()"
      ],
      "metadata": {
        "id": "p2tmqzT1xUYC",
        "colab": {
          "base_uri": "https://localhost:8080/",
          "height": 206
        },
        "outputId": "413535ec-bf4c-4e76-cc26-7372b915e440"
      },
      "execution_count": 21,
      "outputs": [
        {
          "output_type": "execute_result",
          "data": {
            "text/plain": [
              "                  Name              Club Nationality Position  Age  Matches  \\\n",
              "527        Lys Mousset  Sheffield United         FRA    FW,MF   24       11   \n",
              "528     Jack O'Connell  Sheffield United         ENG       DF   26        2   \n",
              "529      Iliman Ndiaye  Sheffield United         FRA       MF   21        1   \n",
              "530  Antwoine Hackford  Sheffield United         ENG    DF,FW   16        1   \n",
              "531        Femi Seriki  Sheffield United         ENG       DF   17        1   \n",
              "\n",
              "     Starts  Mins  Goals  Assists  Passes_Attempted  Perc_Passes_Completed  \\\n",
              "527       2   296      0        0                50                   80.0   \n",
              "528       2   180      0        0                77                   77.9   \n",
              "529       0    12      0        0                 3                  100.0   \n",
              "530       0    11      0        0                 1                  100.0   \n",
              "531       0     1      0        0                 0                   -1.0   \n",
              "\n",
              "     Penalty_Goals  Penalty_Attempted    xG   xA  Yellow_Cards  Red_Cards  \n",
              "527              0                  0  0.22  0.1             0          0  \n",
              "528              0                  0  0.00  0.0             0          0  \n",
              "529              0                  0  0.00  0.0             0          0  \n",
              "530              0                  0  1.16  0.0             0          0  \n",
              "531              0                  0  0.00  0.0             0          0  "
            ],
            "text/html": [
              "\n",
              "  <div id=\"df-6f32d3d6-9490-4ce9-a48a-1727dcb54edd\">\n",
              "    <div class=\"colab-df-container\">\n",
              "      <div>\n",
              "<style scoped>\n",
              "    .dataframe tbody tr th:only-of-type {\n",
              "        vertical-align: middle;\n",
              "    }\n",
              "\n",
              "    .dataframe tbody tr th {\n",
              "        vertical-align: top;\n",
              "    }\n",
              "\n",
              "    .dataframe thead th {\n",
              "        text-align: right;\n",
              "    }\n",
              "</style>\n",
              "<table border=\"1\" class=\"dataframe\">\n",
              "  <thead>\n",
              "    <tr style=\"text-align: right;\">\n",
              "      <th></th>\n",
              "      <th>Name</th>\n",
              "      <th>Club</th>\n",
              "      <th>Nationality</th>\n",
              "      <th>Position</th>\n",
              "      <th>Age</th>\n",
              "      <th>Matches</th>\n",
              "      <th>Starts</th>\n",
              "      <th>Mins</th>\n",
              "      <th>Goals</th>\n",
              "      <th>Assists</th>\n",
              "      <th>Passes_Attempted</th>\n",
              "      <th>Perc_Passes_Completed</th>\n",
              "      <th>Penalty_Goals</th>\n",
              "      <th>Penalty_Attempted</th>\n",
              "      <th>xG</th>\n",
              "      <th>xA</th>\n",
              "      <th>Yellow_Cards</th>\n",
              "      <th>Red_Cards</th>\n",
              "    </tr>\n",
              "  </thead>\n",
              "  <tbody>\n",
              "    <tr>\n",
              "      <th>527</th>\n",
              "      <td>Lys Mousset</td>\n",
              "      <td>Sheffield United</td>\n",
              "      <td>FRA</td>\n",
              "      <td>FW,MF</td>\n",
              "      <td>24</td>\n",
              "      <td>11</td>\n",
              "      <td>2</td>\n",
              "      <td>296</td>\n",
              "      <td>0</td>\n",
              "      <td>0</td>\n",
              "      <td>50</td>\n",
              "      <td>80.0</td>\n",
              "      <td>0</td>\n",
              "      <td>0</td>\n",
              "      <td>0.22</td>\n",
              "      <td>0.1</td>\n",
              "      <td>0</td>\n",
              "      <td>0</td>\n",
              "    </tr>\n",
              "    <tr>\n",
              "      <th>528</th>\n",
              "      <td>Jack O'Connell</td>\n",
              "      <td>Sheffield United</td>\n",
              "      <td>ENG</td>\n",
              "      <td>DF</td>\n",
              "      <td>26</td>\n",
              "      <td>2</td>\n",
              "      <td>2</td>\n",
              "      <td>180</td>\n",
              "      <td>0</td>\n",
              "      <td>0</td>\n",
              "      <td>77</td>\n",
              "      <td>77.9</td>\n",
              "      <td>0</td>\n",
              "      <td>0</td>\n",
              "      <td>0.00</td>\n",
              "      <td>0.0</td>\n",
              "      <td>0</td>\n",
              "      <td>0</td>\n",
              "    </tr>\n",
              "    <tr>\n",
              "      <th>529</th>\n",
              "      <td>Iliman Ndiaye</td>\n",
              "      <td>Sheffield United</td>\n",
              "      <td>FRA</td>\n",
              "      <td>MF</td>\n",
              "      <td>21</td>\n",
              "      <td>1</td>\n",
              "      <td>0</td>\n",
              "      <td>12</td>\n",
              "      <td>0</td>\n",
              "      <td>0</td>\n",
              "      <td>3</td>\n",
              "      <td>100.0</td>\n",
              "      <td>0</td>\n",
              "      <td>0</td>\n",
              "      <td>0.00</td>\n",
              "      <td>0.0</td>\n",
              "      <td>0</td>\n",
              "      <td>0</td>\n",
              "    </tr>\n",
              "    <tr>\n",
              "      <th>530</th>\n",
              "      <td>Antwoine Hackford</td>\n",
              "      <td>Sheffield United</td>\n",
              "      <td>ENG</td>\n",
              "      <td>DF,FW</td>\n",
              "      <td>16</td>\n",
              "      <td>1</td>\n",
              "      <td>0</td>\n",
              "      <td>11</td>\n",
              "      <td>0</td>\n",
              "      <td>0</td>\n",
              "      <td>1</td>\n",
              "      <td>100.0</td>\n",
              "      <td>0</td>\n",
              "      <td>0</td>\n",
              "      <td>1.16</td>\n",
              "      <td>0.0</td>\n",
              "      <td>0</td>\n",
              "      <td>0</td>\n",
              "    </tr>\n",
              "    <tr>\n",
              "      <th>531</th>\n",
              "      <td>Femi Seriki</td>\n",
              "      <td>Sheffield United</td>\n",
              "      <td>ENG</td>\n",
              "      <td>DF</td>\n",
              "      <td>17</td>\n",
              "      <td>1</td>\n",
              "      <td>0</td>\n",
              "      <td>1</td>\n",
              "      <td>0</td>\n",
              "      <td>0</td>\n",
              "      <td>0</td>\n",
              "      <td>-1.0</td>\n",
              "      <td>0</td>\n",
              "      <td>0</td>\n",
              "      <td>0.00</td>\n",
              "      <td>0.0</td>\n",
              "      <td>0</td>\n",
              "      <td>0</td>\n",
              "    </tr>\n",
              "  </tbody>\n",
              "</table>\n",
              "</div>\n",
              "      <button class=\"colab-df-convert\" onclick=\"convertToInteractive('df-6f32d3d6-9490-4ce9-a48a-1727dcb54edd')\"\n",
              "              title=\"Convert this dataframe to an interactive table.\"\n",
              "              style=\"display:none;\">\n",
              "        \n",
              "  <svg xmlns=\"http://www.w3.org/2000/svg\" height=\"24px\"viewBox=\"0 0 24 24\"\n",
              "       width=\"24px\">\n",
              "    <path d=\"M0 0h24v24H0V0z\" fill=\"none\"/>\n",
              "    <path d=\"M18.56 5.44l.94 2.06.94-2.06 2.06-.94-2.06-.94-.94-2.06-.94 2.06-2.06.94zm-11 1L8.5 8.5l.94-2.06 2.06-.94-2.06-.94L8.5 2.5l-.94 2.06-2.06.94zm10 10l.94 2.06.94-2.06 2.06-.94-2.06-.94-.94-2.06-.94 2.06-2.06.94z\"/><path d=\"M17.41 7.96l-1.37-1.37c-.4-.4-.92-.59-1.43-.59-.52 0-1.04.2-1.43.59L10.3 9.45l-7.72 7.72c-.78.78-.78 2.05 0 2.83L4 21.41c.39.39.9.59 1.41.59.51 0 1.02-.2 1.41-.59l7.78-7.78 2.81-2.81c.8-.78.8-2.07 0-2.86zM5.41 20L4 18.59l7.72-7.72 1.47 1.35L5.41 20z\"/>\n",
              "  </svg>\n",
              "      </button>\n",
              "      \n",
              "  <style>\n",
              "    .colab-df-container {\n",
              "      display:flex;\n",
              "      flex-wrap:wrap;\n",
              "      gap: 12px;\n",
              "    }\n",
              "\n",
              "    .colab-df-convert {\n",
              "      background-color: #E8F0FE;\n",
              "      border: none;\n",
              "      border-radius: 50%;\n",
              "      cursor: pointer;\n",
              "      display: none;\n",
              "      fill: #1967D2;\n",
              "      height: 32px;\n",
              "      padding: 0 0 0 0;\n",
              "      width: 32px;\n",
              "    }\n",
              "\n",
              "    .colab-df-convert:hover {\n",
              "      background-color: #E2EBFA;\n",
              "      box-shadow: 0px 1px 2px rgba(60, 64, 67, 0.3), 0px 1px 3px 1px rgba(60, 64, 67, 0.15);\n",
              "      fill: #174EA6;\n",
              "    }\n",
              "\n",
              "    [theme=dark] .colab-df-convert {\n",
              "      background-color: #3B4455;\n",
              "      fill: #D2E3FC;\n",
              "    }\n",
              "\n",
              "    [theme=dark] .colab-df-convert:hover {\n",
              "      background-color: #434B5C;\n",
              "      box-shadow: 0px 1px 3px 1px rgba(0, 0, 0, 0.15);\n",
              "      filter: drop-shadow(0px 1px 2px rgba(0, 0, 0, 0.3));\n",
              "      fill: #FFFFFF;\n",
              "    }\n",
              "  </style>\n",
              "\n",
              "      <script>\n",
              "        const buttonEl =\n",
              "          document.querySelector('#df-6f32d3d6-9490-4ce9-a48a-1727dcb54edd button.colab-df-convert');\n",
              "        buttonEl.style.display =\n",
              "          google.colab.kernel.accessAllowed ? 'block' : 'none';\n",
              "\n",
              "        async function convertToInteractive(key) {\n",
              "          const element = document.querySelector('#df-6f32d3d6-9490-4ce9-a48a-1727dcb54edd');\n",
              "          const dataTable =\n",
              "            await google.colab.kernel.invokeFunction('convertToInteractive',\n",
              "                                                     [key], {});\n",
              "          if (!dataTable) return;\n",
              "\n",
              "          const docLinkHtml = 'Like what you see? Visit the ' +\n",
              "            '<a target=\"_blank\" href=https://colab.research.google.com/notebooks/data_table.ipynb>data table notebook</a>'\n",
              "            + ' to learn more about interactive tables.';\n",
              "          element.innerHTML = '';\n",
              "          dataTable['output_type'] = 'display_data';\n",
              "          await google.colab.output.renderOutput(dataTable, element);\n",
              "          const docLink = document.createElement('div');\n",
              "          docLink.innerHTML = docLinkHtml;\n",
              "          element.appendChild(docLink);\n",
              "        }\n",
              "      </script>\n",
              "    </div>\n",
              "  </div>\n",
              "  "
            ]
          },
          "metadata": {},
          "execution_count": 21
        }
      ]
    },
    {
      "cell_type": "code",
      "source": [
        "## dataset info bilgisi n/a değeri yok , 532 adet değer var, 4 adet object değişken veriyor,\n",
        "## 11 adet kesikli(int), 3 adet sürekli(float) değişken bulunuyor ,  \n",
        "df.info()"
      ],
      "metadata": {
        "id": "l31OLsl3xb5k",
        "colab": {
          "base_uri": "https://localhost:8080/"
        },
        "outputId": "546953dc-6d72-429f-9f55-a932bc5b0189"
      },
      "execution_count": null,
      "outputs": [
        {
          "output_type": "stream",
          "name": "stdout",
          "text": [
            "<class 'pandas.core.frame.DataFrame'>\n",
            "RangeIndex: 532 entries, 0 to 531\n",
            "Data columns (total 18 columns):\n",
            " #   Column                 Non-Null Count  Dtype  \n",
            "---  ------                 --------------  -----  \n",
            " 0   Name                   532 non-null    object \n",
            " 1   Club                   532 non-null    object \n",
            " 2   Nationality            532 non-null    object \n",
            " 3   Position               532 non-null    object \n",
            " 4   Age                    532 non-null    int64  \n",
            " 5   Matches                532 non-null    int64  \n",
            " 6   Starts                 532 non-null    int64  \n",
            " 7   Mins                   532 non-null    int64  \n",
            " 8   Goals                  532 non-null    int64  \n",
            " 9   Assists                532 non-null    int64  \n",
            " 10  Passes_Attempted       532 non-null    int64  \n",
            " 11  Perc_Passes_Completed  532 non-null    float64\n",
            " 12  Penalty_Goals          532 non-null    int64  \n",
            " 13  Penalty_Attempted      532 non-null    int64  \n",
            " 14  xG                     532 non-null    float64\n",
            " 15  xA                     532 non-null    float64\n",
            " 16  Yellow_Cards           532 non-null    int64  \n",
            " 17  Red_Cards              532 non-null    int64  \n",
            "dtypes: float64(3), int64(11), object(4)\n",
            "memory usage: 74.9+ KB\n"
          ]
        }
      ]
    },
    {
      "cell_type": "code",
      "source": [
        "## Datasetin boyutu\n",
        "print(df.ndim)\n",
        "df.shape"
      ],
      "metadata": {
        "id": "Zwn-EjEhzgMF",
        "colab": {
          "base_uri": "https://localhost:8080/"
        },
        "outputId": "e323e75a-5109-4c06-f0ab-22f0bd17a612"
      },
      "execution_count": 19,
      "outputs": [
        {
          "output_type": "stream",
          "name": "stdout",
          "text": [
            "2\n"
          ]
        },
        {
          "output_type": "execute_result",
          "data": {
            "text/plain": [
              "(532, 18)"
            ]
          },
          "metadata": {},
          "execution_count": 19
        }
      ]
    },
    {
      "cell_type": "code",
      "source": [
        "## sütünların isimlerin gösterilmesi\n",
        "df.columns"
      ],
      "metadata": {
        "id": "hJOTzKy60-hH",
        "colab": {
          "base_uri": "https://localhost:8080/"
        },
        "outputId": "f8ae74b7-5e64-4ad1-cd75-0b986caa48c0"
      },
      "execution_count": 20,
      "outputs": [
        {
          "output_type": "execute_result",
          "data": {
            "text/plain": [
              "Index(['Name', 'Club', 'Nationality', 'Position', 'Age', 'Matches', 'Starts',\n",
              "       'Mins', 'Goals', 'Assists', 'Passes_Attempted', 'Perc_Passes_Completed',\n",
              "       'Penalty_Goals', 'Penalty_Attempted', 'xG', 'xA', 'Yellow_Cards',\n",
              "       'Red_Cards'],\n",
              "      dtype='object')"
            ]
          },
          "metadata": {},
          "execution_count": 20
        }
      ]
    },
    {
      "cell_type": "code",
      "source": [
        "## describe alınması ve (Transform) tersini alınarak görüntüsü açıklayıcı hale getiriliyor, katogorik değişkenleri Nan atıyor sürekli değişkenlerin değerlerini gösteriyor\n",
        "df.describe(include='all').T"
      ],
      "metadata": {
        "id": "uQPsbGVK1Ij3",
        "colab": {
          "base_uri": "https://localhost:8080/",
          "height": 614
        },
        "outputId": "dc7b05f3-651e-4636-d8b9-843f22ba1e58"
      },
      "execution_count": 22,
      "outputs": [
        {
          "output_type": "execute_result",
          "data": {
            "text/plain": [
              "                       count unique                   top freq         mean  \\\n",
              "Name                     532    524           Joe Willock    2          NaN   \n",
              "Club                     532     20  West Bromwich Albion   30          NaN   \n",
              "Nationality              532     59                   ENG  192          NaN   \n",
              "Position                 532     10                    DF  178          NaN   \n",
              "Age                    532.0    NaN                   NaN  NaN         25.5   \n",
              "Matches                532.0    NaN                   NaN  NaN    19.535714   \n",
              "Starts                 532.0    NaN                   NaN  NaN    15.714286   \n",
              "Mins                   532.0    NaN                   NaN  NaN  1411.443609   \n",
              "Goals                  532.0    NaN                   NaN  NaN     1.853383   \n",
              "Assists                532.0    NaN                   NaN  NaN     1.287594   \n",
              "Passes_Attempted       532.0    NaN                   NaN  NaN       717.75   \n",
              "Perc_Passes_Completed  532.0    NaN                   NaN  NaN    77.823872   \n",
              "Penalty_Goals          532.0    NaN                   NaN  NaN     0.191729   \n",
              "Penalty_Attempted      532.0    NaN                   NaN  NaN     0.234962   \n",
              "xG                     532.0    NaN                   NaN  NaN     0.113289   \n",
              "xA                     532.0    NaN                   NaN  NaN      0.07265   \n",
              "Yellow_Cards           532.0    NaN                   NaN  NaN     2.114662   \n",
              "Red_Cards              532.0    NaN                   NaN  NaN     0.090226   \n",
              "\n",
              "                               std   min    25%     50%     75%     max  \n",
              "Name                           NaN   NaN    NaN     NaN     NaN     NaN  \n",
              "Club                           NaN   NaN    NaN     NaN     NaN     NaN  \n",
              "Nationality                    NaN   NaN    NaN     NaN     NaN     NaN  \n",
              "Position                       NaN   NaN    NaN     NaN     NaN     NaN  \n",
              "Age                       4.319404  16.0   22.0    26.0    29.0    38.0  \n",
              "Matches                  11.840459   1.0    9.0    21.0    30.0    38.0  \n",
              "Starts                   11.921161   0.0    4.0    15.0    27.0    38.0  \n",
              "Mins                   1043.171856   1.0  426.0  1345.0  2303.5  3420.0  \n",
              "Goals                     3.338009   0.0    0.0     1.0     2.0    23.0  \n",
              "Assists                   2.095191   0.0    0.0     0.0     2.0    14.0  \n",
              "Passes_Attempted        631.372522   0.0  171.5   573.5  1129.5  3214.0  \n",
              "Perc_Passes_Completed    13.011631  -1.0   73.5    79.2  84.625   100.0  \n",
              "Penalty_Goals             0.850881   0.0    0.0     0.0     0.0     9.0  \n",
              "Penalty_Attempted         0.975818   0.0    0.0     0.0     0.0    10.0  \n",
              "xG                        0.148174   0.0   0.01    0.06    0.15    1.16  \n",
              "xA                        0.090072   0.0    0.0    0.05    0.11     0.9  \n",
              "Yellow_Cards              2.269094   0.0    0.0     2.0     3.0    12.0  \n",
              "Red_Cards                 0.293268   0.0    0.0     0.0     0.0     2.0  "
            ],
            "text/html": [
              "\n",
              "  <div id=\"df-4cb2a200-1f42-4685-bf28-8a83a0372e14\">\n",
              "    <div class=\"colab-df-container\">\n",
              "      <div>\n",
              "<style scoped>\n",
              "    .dataframe tbody tr th:only-of-type {\n",
              "        vertical-align: middle;\n",
              "    }\n",
              "\n",
              "    .dataframe tbody tr th {\n",
              "        vertical-align: top;\n",
              "    }\n",
              "\n",
              "    .dataframe thead th {\n",
              "        text-align: right;\n",
              "    }\n",
              "</style>\n",
              "<table border=\"1\" class=\"dataframe\">\n",
              "  <thead>\n",
              "    <tr style=\"text-align: right;\">\n",
              "      <th></th>\n",
              "      <th>count</th>\n",
              "      <th>unique</th>\n",
              "      <th>top</th>\n",
              "      <th>freq</th>\n",
              "      <th>mean</th>\n",
              "      <th>std</th>\n",
              "      <th>min</th>\n",
              "      <th>25%</th>\n",
              "      <th>50%</th>\n",
              "      <th>75%</th>\n",
              "      <th>max</th>\n",
              "    </tr>\n",
              "  </thead>\n",
              "  <tbody>\n",
              "    <tr>\n",
              "      <th>Name</th>\n",
              "      <td>532</td>\n",
              "      <td>524</td>\n",
              "      <td>Joe Willock</td>\n",
              "      <td>2</td>\n",
              "      <td>NaN</td>\n",
              "      <td>NaN</td>\n",
              "      <td>NaN</td>\n",
              "      <td>NaN</td>\n",
              "      <td>NaN</td>\n",
              "      <td>NaN</td>\n",
              "      <td>NaN</td>\n",
              "    </tr>\n",
              "    <tr>\n",
              "      <th>Club</th>\n",
              "      <td>532</td>\n",
              "      <td>20</td>\n",
              "      <td>West Bromwich Albion</td>\n",
              "      <td>30</td>\n",
              "      <td>NaN</td>\n",
              "      <td>NaN</td>\n",
              "      <td>NaN</td>\n",
              "      <td>NaN</td>\n",
              "      <td>NaN</td>\n",
              "      <td>NaN</td>\n",
              "      <td>NaN</td>\n",
              "    </tr>\n",
              "    <tr>\n",
              "      <th>Nationality</th>\n",
              "      <td>532</td>\n",
              "      <td>59</td>\n",
              "      <td>ENG</td>\n",
              "      <td>192</td>\n",
              "      <td>NaN</td>\n",
              "      <td>NaN</td>\n",
              "      <td>NaN</td>\n",
              "      <td>NaN</td>\n",
              "      <td>NaN</td>\n",
              "      <td>NaN</td>\n",
              "      <td>NaN</td>\n",
              "    </tr>\n",
              "    <tr>\n",
              "      <th>Position</th>\n",
              "      <td>532</td>\n",
              "      <td>10</td>\n",
              "      <td>DF</td>\n",
              "      <td>178</td>\n",
              "      <td>NaN</td>\n",
              "      <td>NaN</td>\n",
              "      <td>NaN</td>\n",
              "      <td>NaN</td>\n",
              "      <td>NaN</td>\n",
              "      <td>NaN</td>\n",
              "      <td>NaN</td>\n",
              "    </tr>\n",
              "    <tr>\n",
              "      <th>Age</th>\n",
              "      <td>532.0</td>\n",
              "      <td>NaN</td>\n",
              "      <td>NaN</td>\n",
              "      <td>NaN</td>\n",
              "      <td>25.5</td>\n",
              "      <td>4.319404</td>\n",
              "      <td>16.0</td>\n",
              "      <td>22.0</td>\n",
              "      <td>26.0</td>\n",
              "      <td>29.0</td>\n",
              "      <td>38.0</td>\n",
              "    </tr>\n",
              "    <tr>\n",
              "      <th>Matches</th>\n",
              "      <td>532.0</td>\n",
              "      <td>NaN</td>\n",
              "      <td>NaN</td>\n",
              "      <td>NaN</td>\n",
              "      <td>19.535714</td>\n",
              "      <td>11.840459</td>\n",
              "      <td>1.0</td>\n",
              "      <td>9.0</td>\n",
              "      <td>21.0</td>\n",
              "      <td>30.0</td>\n",
              "      <td>38.0</td>\n",
              "    </tr>\n",
              "    <tr>\n",
              "      <th>Starts</th>\n",
              "      <td>532.0</td>\n",
              "      <td>NaN</td>\n",
              "      <td>NaN</td>\n",
              "      <td>NaN</td>\n",
              "      <td>15.714286</td>\n",
              "      <td>11.921161</td>\n",
              "      <td>0.0</td>\n",
              "      <td>4.0</td>\n",
              "      <td>15.0</td>\n",
              "      <td>27.0</td>\n",
              "      <td>38.0</td>\n",
              "    </tr>\n",
              "    <tr>\n",
              "      <th>Mins</th>\n",
              "      <td>532.0</td>\n",
              "      <td>NaN</td>\n",
              "      <td>NaN</td>\n",
              "      <td>NaN</td>\n",
              "      <td>1411.443609</td>\n",
              "      <td>1043.171856</td>\n",
              "      <td>1.0</td>\n",
              "      <td>426.0</td>\n",
              "      <td>1345.0</td>\n",
              "      <td>2303.5</td>\n",
              "      <td>3420.0</td>\n",
              "    </tr>\n",
              "    <tr>\n",
              "      <th>Goals</th>\n",
              "      <td>532.0</td>\n",
              "      <td>NaN</td>\n",
              "      <td>NaN</td>\n",
              "      <td>NaN</td>\n",
              "      <td>1.853383</td>\n",
              "      <td>3.338009</td>\n",
              "      <td>0.0</td>\n",
              "      <td>0.0</td>\n",
              "      <td>1.0</td>\n",
              "      <td>2.0</td>\n",
              "      <td>23.0</td>\n",
              "    </tr>\n",
              "    <tr>\n",
              "      <th>Assists</th>\n",
              "      <td>532.0</td>\n",
              "      <td>NaN</td>\n",
              "      <td>NaN</td>\n",
              "      <td>NaN</td>\n",
              "      <td>1.287594</td>\n",
              "      <td>2.095191</td>\n",
              "      <td>0.0</td>\n",
              "      <td>0.0</td>\n",
              "      <td>0.0</td>\n",
              "      <td>2.0</td>\n",
              "      <td>14.0</td>\n",
              "    </tr>\n",
              "    <tr>\n",
              "      <th>Passes_Attempted</th>\n",
              "      <td>532.0</td>\n",
              "      <td>NaN</td>\n",
              "      <td>NaN</td>\n",
              "      <td>NaN</td>\n",
              "      <td>717.75</td>\n",
              "      <td>631.372522</td>\n",
              "      <td>0.0</td>\n",
              "      <td>171.5</td>\n",
              "      <td>573.5</td>\n",
              "      <td>1129.5</td>\n",
              "      <td>3214.0</td>\n",
              "    </tr>\n",
              "    <tr>\n",
              "      <th>Perc_Passes_Completed</th>\n",
              "      <td>532.0</td>\n",
              "      <td>NaN</td>\n",
              "      <td>NaN</td>\n",
              "      <td>NaN</td>\n",
              "      <td>77.823872</td>\n",
              "      <td>13.011631</td>\n",
              "      <td>-1.0</td>\n",
              "      <td>73.5</td>\n",
              "      <td>79.2</td>\n",
              "      <td>84.625</td>\n",
              "      <td>100.0</td>\n",
              "    </tr>\n",
              "    <tr>\n",
              "      <th>Penalty_Goals</th>\n",
              "      <td>532.0</td>\n",
              "      <td>NaN</td>\n",
              "      <td>NaN</td>\n",
              "      <td>NaN</td>\n",
              "      <td>0.191729</td>\n",
              "      <td>0.850881</td>\n",
              "      <td>0.0</td>\n",
              "      <td>0.0</td>\n",
              "      <td>0.0</td>\n",
              "      <td>0.0</td>\n",
              "      <td>9.0</td>\n",
              "    </tr>\n",
              "    <tr>\n",
              "      <th>Penalty_Attempted</th>\n",
              "      <td>532.0</td>\n",
              "      <td>NaN</td>\n",
              "      <td>NaN</td>\n",
              "      <td>NaN</td>\n",
              "      <td>0.234962</td>\n",
              "      <td>0.975818</td>\n",
              "      <td>0.0</td>\n",
              "      <td>0.0</td>\n",
              "      <td>0.0</td>\n",
              "      <td>0.0</td>\n",
              "      <td>10.0</td>\n",
              "    </tr>\n",
              "    <tr>\n",
              "      <th>xG</th>\n",
              "      <td>532.0</td>\n",
              "      <td>NaN</td>\n",
              "      <td>NaN</td>\n",
              "      <td>NaN</td>\n",
              "      <td>0.113289</td>\n",
              "      <td>0.148174</td>\n",
              "      <td>0.0</td>\n",
              "      <td>0.01</td>\n",
              "      <td>0.06</td>\n",
              "      <td>0.15</td>\n",
              "      <td>1.16</td>\n",
              "    </tr>\n",
              "    <tr>\n",
              "      <th>xA</th>\n",
              "      <td>532.0</td>\n",
              "      <td>NaN</td>\n",
              "      <td>NaN</td>\n",
              "      <td>NaN</td>\n",
              "      <td>0.07265</td>\n",
              "      <td>0.090072</td>\n",
              "      <td>0.0</td>\n",
              "      <td>0.0</td>\n",
              "      <td>0.05</td>\n",
              "      <td>0.11</td>\n",
              "      <td>0.9</td>\n",
              "    </tr>\n",
              "    <tr>\n",
              "      <th>Yellow_Cards</th>\n",
              "      <td>532.0</td>\n",
              "      <td>NaN</td>\n",
              "      <td>NaN</td>\n",
              "      <td>NaN</td>\n",
              "      <td>2.114662</td>\n",
              "      <td>2.269094</td>\n",
              "      <td>0.0</td>\n",
              "      <td>0.0</td>\n",
              "      <td>2.0</td>\n",
              "      <td>3.0</td>\n",
              "      <td>12.0</td>\n",
              "    </tr>\n",
              "    <tr>\n",
              "      <th>Red_Cards</th>\n",
              "      <td>532.0</td>\n",
              "      <td>NaN</td>\n",
              "      <td>NaN</td>\n",
              "      <td>NaN</td>\n",
              "      <td>0.090226</td>\n",
              "      <td>0.293268</td>\n",
              "      <td>0.0</td>\n",
              "      <td>0.0</td>\n",
              "      <td>0.0</td>\n",
              "      <td>0.0</td>\n",
              "      <td>2.0</td>\n",
              "    </tr>\n",
              "  </tbody>\n",
              "</table>\n",
              "</div>\n",
              "      <button class=\"colab-df-convert\" onclick=\"convertToInteractive('df-4cb2a200-1f42-4685-bf28-8a83a0372e14')\"\n",
              "              title=\"Convert this dataframe to an interactive table.\"\n",
              "              style=\"display:none;\">\n",
              "        \n",
              "  <svg xmlns=\"http://www.w3.org/2000/svg\" height=\"24px\"viewBox=\"0 0 24 24\"\n",
              "       width=\"24px\">\n",
              "    <path d=\"M0 0h24v24H0V0z\" fill=\"none\"/>\n",
              "    <path d=\"M18.56 5.44l.94 2.06.94-2.06 2.06-.94-2.06-.94-.94-2.06-.94 2.06-2.06.94zm-11 1L8.5 8.5l.94-2.06 2.06-.94-2.06-.94L8.5 2.5l-.94 2.06-2.06.94zm10 10l.94 2.06.94-2.06 2.06-.94-2.06-.94-.94-2.06-.94 2.06-2.06.94z\"/><path d=\"M17.41 7.96l-1.37-1.37c-.4-.4-.92-.59-1.43-.59-.52 0-1.04.2-1.43.59L10.3 9.45l-7.72 7.72c-.78.78-.78 2.05 0 2.83L4 21.41c.39.39.9.59 1.41.59.51 0 1.02-.2 1.41-.59l7.78-7.78 2.81-2.81c.8-.78.8-2.07 0-2.86zM5.41 20L4 18.59l7.72-7.72 1.47 1.35L5.41 20z\"/>\n",
              "  </svg>\n",
              "      </button>\n",
              "      \n",
              "  <style>\n",
              "    .colab-df-container {\n",
              "      display:flex;\n",
              "      flex-wrap:wrap;\n",
              "      gap: 12px;\n",
              "    }\n",
              "\n",
              "    .colab-df-convert {\n",
              "      background-color: #E8F0FE;\n",
              "      border: none;\n",
              "      border-radius: 50%;\n",
              "      cursor: pointer;\n",
              "      display: none;\n",
              "      fill: #1967D2;\n",
              "      height: 32px;\n",
              "      padding: 0 0 0 0;\n",
              "      width: 32px;\n",
              "    }\n",
              "\n",
              "    .colab-df-convert:hover {\n",
              "      background-color: #E2EBFA;\n",
              "      box-shadow: 0px 1px 2px rgba(60, 64, 67, 0.3), 0px 1px 3px 1px rgba(60, 64, 67, 0.15);\n",
              "      fill: #174EA6;\n",
              "    }\n",
              "\n",
              "    [theme=dark] .colab-df-convert {\n",
              "      background-color: #3B4455;\n",
              "      fill: #D2E3FC;\n",
              "    }\n",
              "\n",
              "    [theme=dark] .colab-df-convert:hover {\n",
              "      background-color: #434B5C;\n",
              "      box-shadow: 0px 1px 3px 1px rgba(0, 0, 0, 0.15);\n",
              "      filter: drop-shadow(0px 1px 2px rgba(0, 0, 0, 0.3));\n",
              "      fill: #FFFFFF;\n",
              "    }\n",
              "  </style>\n",
              "\n",
              "      <script>\n",
              "        const buttonEl =\n",
              "          document.querySelector('#df-4cb2a200-1f42-4685-bf28-8a83a0372e14 button.colab-df-convert');\n",
              "        buttonEl.style.display =\n",
              "          google.colab.kernel.accessAllowed ? 'block' : 'none';\n",
              "\n",
              "        async function convertToInteractive(key) {\n",
              "          const element = document.querySelector('#df-4cb2a200-1f42-4685-bf28-8a83a0372e14');\n",
              "          const dataTable =\n",
              "            await google.colab.kernel.invokeFunction('convertToInteractive',\n",
              "                                                     [key], {});\n",
              "          if (!dataTable) return;\n",
              "\n",
              "          const docLinkHtml = 'Like what you see? Visit the ' +\n",
              "            '<a target=\"_blank\" href=https://colab.research.google.com/notebooks/data_table.ipynb>data table notebook</a>'\n",
              "            + ' to learn more about interactive tables.';\n",
              "          element.innerHTML = '';\n",
              "          dataTable['output_type'] = 'display_data';\n",
              "          await google.colab.output.renderOutput(dataTable, element);\n",
              "          const docLink = document.createElement('div');\n",
              "          docLink.innerHTML = docLinkHtml;\n",
              "          element.appendChild(docLink);\n",
              "        }\n",
              "      </script>\n",
              "    </div>\n",
              "  </div>\n",
              "  "
            ]
          },
          "metadata": {},
          "execution_count": 22
        }
      ]
    },
    {
      "cell_type": "code",
      "source": [
        "#Eksik değer bulunmuyor / değer olmadığı için isnull işlemleri yapılmadı\n",
        "df.isnull().values.any()"
      ],
      "metadata": {
        "colab": {
          "base_uri": "https://localhost:8080/"
        },
        "id": "JOmTxLFM1_UG",
        "outputId": "327148ac-9a8e-4b34-e831-09afeee1a0ed"
      },
      "execution_count": 23,
      "outputs": [
        {
          "output_type": "execute_result",
          "data": {
            "text/plain": [
              "False"
            ]
          },
          "metadata": {},
          "execution_count": 23
        }
      ]
    },
    {
      "cell_type": "markdown",
      "source": [
        "#Katagorik değişkenlerin özeti ve Barhcart gösterimi"
      ],
      "metadata": {
        "id": "EnaeeKgV4j7f"
      }
    },
    {
      "cell_type": "code",
      "source": [
        "## İlk 5 katagorik değişkenlerin özeti  ve değişkenleri kat_df değişkene atanması\n",
        "kat_df =  df.select_dtypes(include=['object'])\n",
        "kat_df.head()"
      ],
      "metadata": {
        "colab": {
          "base_uri": "https://localhost:8080/",
          "height": 206
        },
        "id": "KngLQDGw4bAk",
        "outputId": "b8cca295-b053-4076-8183-02dbbe86af0e"
      },
      "execution_count": 24,
      "outputs": [
        {
          "output_type": "execute_result",
          "data": {
            "text/plain": [
              "            Name     Club Nationality Position\n",
              "0    Mason Mount  Chelsea         ENG    MF,FW\n",
              "1  Edouard Mendy  Chelsea         SEN       GK\n",
              "2    Timo Werner  Chelsea         GER       FW\n",
              "3   Ben Chilwell  Chelsea         ENG       DF\n",
              "4    Reece James  Chelsea         ENG       DF"
            ],
            "text/html": [
              "\n",
              "  <div id=\"df-fd94a1e3-e943-4cb2-b523-fd48f02bc3ce\">\n",
              "    <div class=\"colab-df-container\">\n",
              "      <div>\n",
              "<style scoped>\n",
              "    .dataframe tbody tr th:only-of-type {\n",
              "        vertical-align: middle;\n",
              "    }\n",
              "\n",
              "    .dataframe tbody tr th {\n",
              "        vertical-align: top;\n",
              "    }\n",
              "\n",
              "    .dataframe thead th {\n",
              "        text-align: right;\n",
              "    }\n",
              "</style>\n",
              "<table border=\"1\" class=\"dataframe\">\n",
              "  <thead>\n",
              "    <tr style=\"text-align: right;\">\n",
              "      <th></th>\n",
              "      <th>Name</th>\n",
              "      <th>Club</th>\n",
              "      <th>Nationality</th>\n",
              "      <th>Position</th>\n",
              "    </tr>\n",
              "  </thead>\n",
              "  <tbody>\n",
              "    <tr>\n",
              "      <th>0</th>\n",
              "      <td>Mason Mount</td>\n",
              "      <td>Chelsea</td>\n",
              "      <td>ENG</td>\n",
              "      <td>MF,FW</td>\n",
              "    </tr>\n",
              "    <tr>\n",
              "      <th>1</th>\n",
              "      <td>Edouard Mendy</td>\n",
              "      <td>Chelsea</td>\n",
              "      <td>SEN</td>\n",
              "      <td>GK</td>\n",
              "    </tr>\n",
              "    <tr>\n",
              "      <th>2</th>\n",
              "      <td>Timo Werner</td>\n",
              "      <td>Chelsea</td>\n",
              "      <td>GER</td>\n",
              "      <td>FW</td>\n",
              "    </tr>\n",
              "    <tr>\n",
              "      <th>3</th>\n",
              "      <td>Ben Chilwell</td>\n",
              "      <td>Chelsea</td>\n",
              "      <td>ENG</td>\n",
              "      <td>DF</td>\n",
              "    </tr>\n",
              "    <tr>\n",
              "      <th>4</th>\n",
              "      <td>Reece James</td>\n",
              "      <td>Chelsea</td>\n",
              "      <td>ENG</td>\n",
              "      <td>DF</td>\n",
              "    </tr>\n",
              "  </tbody>\n",
              "</table>\n",
              "</div>\n",
              "      <button class=\"colab-df-convert\" onclick=\"convertToInteractive('df-fd94a1e3-e943-4cb2-b523-fd48f02bc3ce')\"\n",
              "              title=\"Convert this dataframe to an interactive table.\"\n",
              "              style=\"display:none;\">\n",
              "        \n",
              "  <svg xmlns=\"http://www.w3.org/2000/svg\" height=\"24px\"viewBox=\"0 0 24 24\"\n",
              "       width=\"24px\">\n",
              "    <path d=\"M0 0h24v24H0V0z\" fill=\"none\"/>\n",
              "    <path d=\"M18.56 5.44l.94 2.06.94-2.06 2.06-.94-2.06-.94-.94-2.06-.94 2.06-2.06.94zm-11 1L8.5 8.5l.94-2.06 2.06-.94-2.06-.94L8.5 2.5l-.94 2.06-2.06.94zm10 10l.94 2.06.94-2.06 2.06-.94-2.06-.94-.94-2.06-.94 2.06-2.06.94z\"/><path d=\"M17.41 7.96l-1.37-1.37c-.4-.4-.92-.59-1.43-.59-.52 0-1.04.2-1.43.59L10.3 9.45l-7.72 7.72c-.78.78-.78 2.05 0 2.83L4 21.41c.39.39.9.59 1.41.59.51 0 1.02-.2 1.41-.59l7.78-7.78 2.81-2.81c.8-.78.8-2.07 0-2.86zM5.41 20L4 18.59l7.72-7.72 1.47 1.35L5.41 20z\"/>\n",
              "  </svg>\n",
              "      </button>\n",
              "      \n",
              "  <style>\n",
              "    .colab-df-container {\n",
              "      display:flex;\n",
              "      flex-wrap:wrap;\n",
              "      gap: 12px;\n",
              "    }\n",
              "\n",
              "    .colab-df-convert {\n",
              "      background-color: #E8F0FE;\n",
              "      border: none;\n",
              "      border-radius: 50%;\n",
              "      cursor: pointer;\n",
              "      display: none;\n",
              "      fill: #1967D2;\n",
              "      height: 32px;\n",
              "      padding: 0 0 0 0;\n",
              "      width: 32px;\n",
              "    }\n",
              "\n",
              "    .colab-df-convert:hover {\n",
              "      background-color: #E2EBFA;\n",
              "      box-shadow: 0px 1px 2px rgba(60, 64, 67, 0.3), 0px 1px 3px 1px rgba(60, 64, 67, 0.15);\n",
              "      fill: #174EA6;\n",
              "    }\n",
              "\n",
              "    [theme=dark] .colab-df-convert {\n",
              "      background-color: #3B4455;\n",
              "      fill: #D2E3FC;\n",
              "    }\n",
              "\n",
              "    [theme=dark] .colab-df-convert:hover {\n",
              "      background-color: #434B5C;\n",
              "      box-shadow: 0px 1px 3px 1px rgba(0, 0, 0, 0.15);\n",
              "      filter: drop-shadow(0px 1px 2px rgba(0, 0, 0, 0.3));\n",
              "      fill: #FFFFFF;\n",
              "    }\n",
              "  </style>\n",
              "\n",
              "      <script>\n",
              "        const buttonEl =\n",
              "          document.querySelector('#df-fd94a1e3-e943-4cb2-b523-fd48f02bc3ce button.colab-df-convert');\n",
              "        buttonEl.style.display =\n",
              "          google.colab.kernel.accessAllowed ? 'block' : 'none';\n",
              "\n",
              "        async function convertToInteractive(key) {\n",
              "          const element = document.querySelector('#df-fd94a1e3-e943-4cb2-b523-fd48f02bc3ce');\n",
              "          const dataTable =\n",
              "            await google.colab.kernel.invokeFunction('convertToInteractive',\n",
              "                                                     [key], {});\n",
              "          if (!dataTable) return;\n",
              "\n",
              "          const docLinkHtml = 'Like what you see? Visit the ' +\n",
              "            '<a target=\"_blank\" href=https://colab.research.google.com/notebooks/data_table.ipynb>data table notebook</a>'\n",
              "            + ' to learn more about interactive tables.';\n",
              "          element.innerHTML = '';\n",
              "          dataTable['output_type'] = 'display_data';\n",
              "          await google.colab.output.renderOutput(dataTable, element);\n",
              "          const docLink = document.createElement('div');\n",
              "          docLink.innerHTML = docLinkHtml;\n",
              "          element.appendChild(docLink);\n",
              "        }\n",
              "      </script>\n",
              "    </div>\n",
              "  </div>\n",
              "  "
            ]
          },
          "metadata": {},
          "execution_count": 24
        }
      ]
    },
    {
      "cell_type": "code",
      "source": [
        "#Name , Club ve Nationality  Katogorik değişkenlerin adetleri \n",
        "print(f\"20-21 sezonunda Epl'de  toplam  {kat_df['Name'].value_counts().count()} adet Oyuncu bulunuyor\")\n",
        "print(f\"20-21 sezonunda Epl'de  toplam   {kat_df['Club'].value_counts().count()} adet Klup bulunuyor \")\n",
        "print(f\"20-21 sezonunda Epl'de  toplam  {kat_df['Nationality'].value_counts().count()} adet değişik Ulustan oyuncu bulunuyor\")"
      ],
      "metadata": {
        "id": "zBq0Q7mP47Eu",
        "colab": {
          "base_uri": "https://localhost:8080/"
        },
        "outputId": "a7f7d2e3-71d3-48ad-b1ed-a9cd782a2617"
      },
      "execution_count": 26,
      "outputs": [
        {
          "output_type": "stream",
          "name": "stdout",
          "text": [
            "20-21 sezonunda Epl'de  toplam  524 adet Oyuncu bulunuyor\n",
            "20-21 sezonunda Epl'de  toplam   20 adet Klup bulunuyor \n",
            "20-21 sezonunda Epl'de  toplam  59 adet değişik Ulustan oyuncu bulunuyor\n"
          ]
        }
      ]
    },
    {
      "cell_type": "code",
      "source": [
        "#Name değişkenin içeriği \n",
        "kat_df['Name'].value_counts()"
      ],
      "metadata": {
        "id": "6SsGFTAi8HvT",
        "colab": {
          "base_uri": "https://localhost:8080/"
        },
        "outputId": "405846d1-6611-4606-f36c-f6b132bb729a"
      },
      "execution_count": 27,
      "outputs": [
        {
          "output_type": "execute_result",
          "data": {
            "text/plain": [
              "Joe Willock           2\n",
              "Ruben Loftus-Cheek    2\n",
              "Takumi Minamino       2\n",
              "Robert Snodgrass      2\n",
              "Theo Walcott          2\n",
              "                     ..\n",
              "Lucas Moura           1\n",
              "Moussa Sissoko        1\n",
              "Davinson Sánchez      1\n",
              "Serge Aurier          1\n",
              "Femi Seriki           1\n",
              "Name: Name, Length: 524, dtype: int64"
            ]
          },
          "metadata": {},
          "execution_count": 27
        }
      ]
    },
    {
      "cell_type": "code",
      "source": [
        "# barchart grafiği ile Club değişkenin içerisindeki takımların benzersiz yani tekil olan adetlerini gösteriyor \n",
        "kat_df['Club'].value_counts().plot(kind='barh',figsize=(8, 6)) "
      ],
      "metadata": {
        "id": "uXiV1ma68X3c",
        "colab": {
          "base_uri": "https://localhost:8080/",
          "height": 391
        },
        "outputId": "697e3b4c-f373-4428-a6d7-43560d51fa8e"
      },
      "execution_count": 33,
      "outputs": [
        {
          "output_type": "execute_result",
          "data": {
            "text/plain": [
              "<matplotlib.axes._subplots.AxesSubplot at 0x7f3a8240ee10>"
            ]
          },
          "metadata": {},
          "execution_count": 33
        },
        {
          "output_type": "display_data",
          "data": {
            "text/plain": [
              "<Figure size 576x432 with 1 Axes>"
            ],
            "image/png": "[encoded data removed]"
          },
          "metadata": {
            "needs_background": "light"
          }
        }
      ]
    },
    {
      "cell_type": "markdown",
      "source": [
        "#Pasta Graifik gösterimi"
      ],
      "metadata": {
        "id": "MHb8O39Rxpk0"
      }
    },
    {
      "cell_type": "code",
      "source": [
        "#Peanatly ve Pass oranlarının Pasta grafiği gösterimi\n",
        "plt.figure(figsize=(30, 15))\n",
        "pn_goals=df.Penalty_Goals.sum()\n",
        "pas_comp=df.Perc_Passes_Completed.sum()\n",
        "#Penaltı Oran belirleme\n",
        "penalty_rate=df['Penalty_Attempted'].sum() - pn_goals\n",
        "pie_data = [penalty_rate,pn_goals]\n",
        "pie_label = ['Kacan  Penaltı', 'İsabetli skoru']\n",
        "color=sns.color_palette(\"Set2\")\n",
        "#Pass oranı belirleme\n",
        "pass_rate = df['Passes_Attempted'].sum()- pas_comp\n",
        "pass_pie_data=[pass_rate,pas_comp]\n",
        "pass_pie_label=['isabetli Pass','isabetsiz Pass']\n",
        "#plot ile iki şekilde cizdirme\n",
        "plt.subplot(231),plt.pie(pie_data, labels=pie_label,colors=color, autopct='%.0f%%')\n",
        "plt.subplot(232),plt.pie(pass_pie_data, labels=pass_pie_label,colors=color, autopct='%.0f%%')\n",
        "plt.show()"
      ],
      "metadata": {
        "colab": {
          "base_uri": "https://localhost:8080/",
          "height": 402
        },
        "id": "eZ_vtYQprBi-",
        "outputId": "d1139e18-031c-454e-e586-976f34070e0a"
      },
      "execution_count": 118,
      "outputs": [
        {
          "output_type": "display_data",
          "data": {
            "text/plain": [
              "<Figure size 2160x1080 with 2 Axes>"
            ],
            "image/png": "[encoded data removed]"
          },
          "metadata": {}
        }
      ]
    },
    {
      "cell_type": "markdown",
      "source": [
        "# Kesikli ve Sürekli değişkenlerin Özeti"
      ],
      "metadata": {
        "id": "2XQ7jrax5hL9"
      }
    },
    {
      "cell_type": "code",
      "source": [
        " # Kesikli ve sürekli kat_num atanması ve özetini cıkarmak görüldüğü üzere string değerler yoktur\n",
        "df_num =  df.select_dtypes(include=['float64',\"int64\"])\n",
        "df_num.head()"
      ],
      "metadata": {
        "id": "a0_yaLsZ9G2F",
        "colab": {
          "base_uri": "https://localhost:8080/",
          "height": 206
        },
        "outputId": "7f7e4e5c-985c-4e2a-8230-b2bb7ee377a7"
      },
      "execution_count": 34,
      "outputs": [
        {
          "output_type": "execute_result",
          "data": {
            "text/plain": [
              "   Age  Matches  Starts  Mins  Goals  Assists  Passes_Attempted  \\\n",
              "0   21       36      32  2890      6        5              1881   \n",
              "1   28       31      31  2745      0        0              1007   \n",
              "2   24       35      29  2602      6        8               826   \n",
              "3   23       27      27  2286      3        5              1806   \n",
              "4   20       32      25  2373      1        2              1987   \n",
              "\n",
              "   Perc_Passes_Completed  Penalty_Goals  Penalty_Attempted    xG    xA  \\\n",
              "0                   82.3              1                  1  0.21  0.24   \n",
              "1                   84.6              0                  0  0.00  0.00   \n",
              "2                   77.2              0                  0  0.41  0.21   \n",
              "3                   78.6              0                  0  0.10  0.11   \n",
              "4                   85.0              0                  0  0.06  0.12   \n",
              "\n",
              "   Yellow_Cards  Red_Cards  \n",
              "0             2          0  \n",
              "1             2          0  \n",
              "2             2          0  \n",
              "3             3          0  \n",
              "4             3          0  "
            ],
            "text/html": [
              "\n",
              "  <div id=\"df-5629e47b-bcf9-490e-9b29-09d0d4d57dde\">\n",
              "    <div class=\"colab-df-container\">\n",
              "      <div>\n",
              "<style scoped>\n",
              "    .dataframe tbody tr th:only-of-type {\n",
              "        vertical-align: middle;\n",
              "    }\n",
              "\n",
              "    .dataframe tbody tr th {\n",
              "        vertical-align: top;\n",
              "    }\n",
              "\n",
              "    .dataframe thead th {\n",
              "        text-align: right;\n",
              "    }\n",
              "</style>\n",
              "<table border=\"1\" class=\"dataframe\">\n",
              "  <thead>\n",
              "    <tr style=\"text-align: right;\">\n",
              "      <th></th>\n",
              "      <th>Age</th>\n",
              "      <th>Matches</th>\n",
              "      <th>Starts</th>\n",
              "      <th>Mins</th>\n",
              "      <th>Goals</th>\n",
              "      <th>Assists</th>\n",
              "      <th>Passes_Attempted</th>\n",
              "      <th>Perc_Passes_Completed</th>\n",
              "      <th>Penalty_Goals</th>\n",
              "      <th>Penalty_Attempted</th>\n",
              "      <th>xG</th>\n",
              "      <th>xA</th>\n",
              "      <th>Yellow_Cards</th>\n",
              "      <th>Red_Cards</th>\n",
              "    </tr>\n",
              "  </thead>\n",
              "  <tbody>\n",
              "    <tr>\n",
              "      <th>0</th>\n",
              "      <td>21</td>\n",
              "      <td>36</td>\n",
              "      <td>32</td>\n",
              "      <td>2890</td>\n",
              "      <td>6</td>\n",
              "      <td>5</td>\n",
              "      <td>1881</td>\n",
              "      <td>82.3</td>\n",
              "      <td>1</td>\n",
              "      <td>1</td>\n",
              "      <td>0.21</td>\n",
              "      <td>0.24</td>\n",
              "      <td>2</td>\n",
              "      <td>0</td>\n",
              "    </tr>\n",
              "    <tr>\n",
              "      <th>1</th>\n",
              "      <td>28</td>\n",
              "      <td>31</td>\n",
              "      <td>31</td>\n",
              "      <td>2745</td>\n",
              "      <td>0</td>\n",
              "      <td>0</td>\n",
              "      <td>1007</td>\n",
              "      <td>84.6</td>\n",
              "      <td>0</td>\n",
              "      <td>0</td>\n",
              "      <td>0.00</td>\n",
              "      <td>0.00</td>\n",
              "      <td>2</td>\n",
              "      <td>0</td>\n",
              "    </tr>\n",
              "    <tr>\n",
              "      <th>2</th>\n",
              "      <td>24</td>\n",
              "      <td>35</td>\n",
              "      <td>29</td>\n",
              "      <td>2602</td>\n",
              "      <td>6</td>\n",
              "      <td>8</td>\n",
              "      <td>826</td>\n",
              "      <td>77.2</td>\n",
              "      <td>0</td>\n",
              "      <td>0</td>\n",
              "      <td>0.41</td>\n",
              "      <td>0.21</td>\n",
              "      <td>2</td>\n",
              "      <td>0</td>\n",
              "    </tr>\n",
              "    <tr>\n",
              "      <th>3</th>\n",
              "      <td>23</td>\n",
              "      <td>27</td>\n",
              "      <td>27</td>\n",
              "      <td>2286</td>\n",
              "      <td>3</td>\n",
              "      <td>5</td>\n",
              "      <td>1806</td>\n",
              "      <td>78.6</td>\n",
              "      <td>0</td>\n",
              "      <td>0</td>\n",
              "      <td>0.10</td>\n",
              "      <td>0.11</td>\n",
              "      <td>3</td>\n",
              "      <td>0</td>\n",
              "    </tr>\n",
              "    <tr>\n",
              "      <th>4</th>\n",
              "      <td>20</td>\n",
              "      <td>32</td>\n",
              "      <td>25</td>\n",
              "      <td>2373</td>\n",
              "      <td>1</td>\n",
              "      <td>2</td>\n",
              "      <td>1987</td>\n",
              "      <td>85.0</td>\n",
              "      <td>0</td>\n",
              "      <td>0</td>\n",
              "      <td>0.06</td>\n",
              "      <td>0.12</td>\n",
              "      <td>3</td>\n",
              "      <td>0</td>\n",
              "    </tr>\n",
              "  </tbody>\n",
              "</table>\n",
              "</div>\n",
              "      <button class=\"colab-df-convert\" onclick=\"convertToInteractive('df-5629e47b-bcf9-490e-9b29-09d0d4d57dde')\"\n",
              "              title=\"Convert this dataframe to an interactive table.\"\n",
              "              style=\"display:none;\">\n",
              "        \n",
              "  <svg xmlns=\"http://www.w3.org/2000/svg\" height=\"24px\"viewBox=\"0 0 24 24\"\n",
              "       width=\"24px\">\n",
              "    <path d=\"M0 0h24v24H0V0z\" fill=\"none\"/>\n",
              "    <path d=\"M18.56 5.44l.94 2.06.94-2.06 2.06-.94-2.06-.94-.94-2.06-.94 2.06-2.06.94zm-11 1L8.5 8.5l.94-2.06 2.06-.94-2.06-.94L8.5 2.5l-.94 2.06-2.06.94zm10 10l.94 2.06.94-2.06 2.06-.94-2.06-.94-.94-2.06-.94 2.06-2.06.94z\"/><path d=\"M17.41 7.96l-1.37-1.37c-.4-.4-.92-.59-1.43-.59-.52 0-1.04.2-1.43.59L10.3 9.45l-7.72 7.72c-.78.78-.78 2.05 0 2.83L4 21.41c.39.39.9.59 1.41.59.51 0 1.02-.2 1.41-.59l7.78-7.78 2.81-2.81c.8-.78.8-2.07 0-2.86zM5.41 20L4 18.59l7.72-7.72 1.47 1.35L5.41 20z\"/>\n",
              "  </svg>\n",
              "      </button>\n",
              "      \n",
              "  <style>\n",
              "    .colab-df-container {\n",
              "      display:flex;\n",
              "      flex-wrap:wrap;\n",
              "      gap: 12px;\n",
              "    }\n",
              "\n",
              "    .colab-df-convert {\n",
              "      background-color: #E8F0FE;\n",
              "      border: none;\n",
              "      border-radius: 50%;\n",
              "      cursor: pointer;\n",
              "      display: none;\n",
              "      fill: #1967D2;\n",
              "      height: 32px;\n",
              "      padding: 0 0 0 0;\n",
              "      width: 32px;\n",
              "    }\n",
              "\n",
              "    .colab-df-convert:hover {\n",
              "      background-color: #E2EBFA;\n",
              "      box-shadow: 0px 1px 2px rgba(60, 64, 67, 0.3), 0px 1px 3px 1px rgba(60, 64, 67, 0.15);\n",
              "      fill: #174EA6;\n",
              "    }\n",
              "\n",
              "    [theme=dark] .colab-df-convert {\n",
              "      background-color: #3B4455;\n",
              "      fill: #D2E3FC;\n",
              "    }\n",
              "\n",
              "    [theme=dark] .colab-df-convert:hover {\n",
              "      background-color: #434B5C;\n",
              "      box-shadow: 0px 1px 3px 1px rgba(0, 0, 0, 0.15);\n",
              "      filter: drop-shadow(0px 1px 2px rgba(0, 0, 0, 0.3));\n",
              "      fill: #FFFFFF;\n",
              "    }\n",
              "  </style>\n",
              "\n",
              "      <script>\n",
              "        const buttonEl =\n",
              "          document.querySelector('#df-5629e47b-bcf9-490e-9b29-09d0d4d57dde button.colab-df-convert');\n",
              "        buttonEl.style.display =\n",
              "          google.colab.kernel.accessAllowed ? 'block' : 'none';\n",
              "\n",
              "        async function convertToInteractive(key) {\n",
              "          const element = document.querySelector('#df-5629e47b-bcf9-490e-9b29-09d0d4d57dde');\n",
              "          const dataTable =\n",
              "            await google.colab.kernel.invokeFunction('convertToInteractive',\n",
              "                                                     [key], {});\n",
              "          if (!dataTable) return;\n",
              "\n",
              "          const docLinkHtml = 'Like what you see? Visit the ' +\n",
              "            '<a target=\"_blank\" href=https://colab.research.google.com/notebooks/data_table.ipynb>data table notebook</a>'\n",
              "            + ' to learn more about interactive tables.';\n",
              "          element.innerHTML = '';\n",
              "          dataTable['output_type'] = 'display_data';\n",
              "          await google.colab.output.renderOutput(dataTable, element);\n",
              "          const docLink = document.createElement('div');\n",
              "          docLink.innerHTML = docLinkHtml;\n",
              "          element.appendChild(docLink);\n",
              "        }\n",
              "      </script>\n",
              "    </div>\n",
              "  </div>\n",
              "  "
            ]
          },
          "metadata": {},
          "execution_count": 34
        }
      ]
    },
    {
      "cell_type": "code",
      "source": [
        "#sadece goals değişkenin istatiksel değerlerinin gösterimi\n",
        "df_num['Goals'].describe().T"
      ],
      "metadata": {
        "id": "Ih5WcOdZ9fGF",
        "colab": {
          "base_uri": "https://localhost:8080/"
        },
        "outputId": "bc9d16a4-5c60-49a5-89dd-3d005a36e9a9"
      },
      "execution_count": 35,
      "outputs": [
        {
          "output_type": "execute_result",
          "data": {
            "text/plain": [
              "count    532.000000\n",
              "mean       1.853383\n",
              "std        3.338009\n",
              "min        0.000000\n",
              "25%        0.000000\n",
              "50%        1.000000\n",
              "75%        2.000000\n",
              "max       23.000000\n",
              "Name: Goals, dtype: float64"
            ]
          },
          "metadata": {},
          "execution_count": 35
        }
      ]
    },
    {
      "cell_type": "code",
      "source": [
        "#Numeric bazı değişkenlerin ortalamasının gösterimi\n",
        "print('EPL liginin 20-21 sezon Gol ortalaması =  ' + str(df_num['Goals'].mean()))\n",
        "print('EPL liginin 20-21 sezon Penaltı Gol ortalaması = ' + str(df_num['Penalty_Goals'].mean()))\n",
        "print('EPL liginin 20-21 sezon oyuncuların Yaş ortalaması = ' + str(df_num['Age'].mean()))"
      ],
      "metadata": {
        "colab": {
          "base_uri": "https://localhost:8080/"
        },
        "id": "TV25IHvS-Eri",
        "outputId": "5538e3a0-5e77-4663-f33b-d9e7b9a75ef9"
      },
      "execution_count": 36,
      "outputs": [
        {
          "output_type": "stream",
          "name": "stdout",
          "text": [
            "EPL liginin 20-21 sezon Gol ortalaması =  1.8533834586466165\n",
            "EPL liginin 20-21 sezon Penaltı Gol ortalaması = 0.19172932330827067\n",
            "EPL liginin 20-21 sezon oyuncuların Yaş ortalaması = 25.5\n"
          ]
        }
      ]
    },
    {
      "cell_type": "markdown",
      "source": [
        "#Kategorik değişkenlerin görselleştirilmesi"
      ],
      "metadata": {
        "id": "qw0C__V66vn0"
      }
    },
    {
      "cell_type": "code",
      "source": [
        "# Position değişkeni katogorik büyüklük /küçüklük sıralama değerleri arandı data type \"category\" olmadığı  için işlem yapılmadı\n",
        "df.Position.head()"
      ],
      "metadata": {
        "colab": {
          "base_uri": "https://localhost:8080/"
        },
        "id": "Ram7Tl5ZEA7b",
        "outputId": "e8d65f7a-e956-4ff9-bbf4-2ee49692c178"
      },
      "execution_count": null,
      "outputs": [
        {
          "output_type": "execute_result",
          "data": {
            "text/plain": [
              "0    MF,FW\n",
              "1       GK\n",
              "2       FW\n",
              "3       DF\n",
              "4       DF\n",
              "Name: Position, dtype: object"
            ]
          },
          "metadata": {},
          "execution_count": 24
        }
      ]
    },
    {
      "cell_type": "code",
      "source": [
        "# Pozisyon göre görsetleştirilmesi Pandas barplot ile çizilmesi\n",
        "df['Position'].value_counts().plot.barh().set_title(\"EPL Oynayan Oyuncuların Pozisyon Dağılımları\")"
      ],
      "metadata": {
        "colab": {
          "base_uri": "https://localhost:8080/",
          "height": 299
        },
        "id": "dAhYSLy1AbY8",
        "outputId": "dc52595e-cc85-4eb7-a519-63673996565d"
      },
      "execution_count": null,
      "outputs": [
        {
          "output_type": "execute_result",
          "data": {
            "text/plain": [
              "Text(0.5, 1.0, 'EPL Oynayan Oyuncuların Pozisyon Dağılımları')"
            ]
          },
          "metadata": {},
          "execution_count": 29
        },
        {
          "output_type": "display_data",
          "data": {
            "text/plain": [
              "<Figure size 432x288 with 1 Axes>"
            ],
            "image/png": "[encoded data removed]"
          },
          "metadata": {
            "needs_background": "light"
          }
        }
      ]
    },
    {
      "cell_type": "code",
      "source": [
        "# Gol sayılarına göre Pozisypon dağılımın seaborn kütüphanesi ile görselleştirilmesi\n",
        "sns.barplot(x='Position',y='Goals', data=df ) "
      ],
      "metadata": {
        "colab": {
          "base_uri": "https://localhost:8080/",
          "height": 296
        },
        "id": "_RdhumExBxlN",
        "outputId": "27548b4f-edda-4b2f-f6a0-2b6d71aa17e4"
      },
      "execution_count": 119,
      "outputs": [
        {
          "output_type": "execute_result",
          "data": {
            "text/plain": [
              "<matplotlib.axes._subplots.AxesSubplot at 0x7f3a71adc610>"
            ]
          },
          "metadata": {},
          "execution_count": 119
        },
        {
          "output_type": "display_data",
          "data": {
            "text/plain": [
              "<Figure size 432x288 with 1 Axes>"
            ],
            "image/png": "[encoded data removed]"
          },
          "metadata": {
            "needs_background": "light"
          }
        }
      ]
    },
    {
      "cell_type": "code",
      "source": [
        "#İkili Dağılımın görselleştirilmesi clublerin oyuncu /hangi pozisyonda oynuyor \n",
        "sns.catplot(x='Position',y='Club', data=df,height=5, aspect=3)"
      ],
      "metadata": {
        "colab": {
          "base_uri": "https://localhost:8080/",
          "height": 386
        },
        "id": "_tnKOVcuC9S6",
        "outputId": "93627113-7012-4188-a32f-7512e41e7246"
      },
      "execution_count": 67,
      "outputs": [
        {
          "output_type": "execute_result",
          "data": {
            "text/plain": [
              "<seaborn.axisgrid.FacetGrid at 0x7f3a7cb67c50>"
            ]
          },
          "metadata": {},
          "execution_count": 67
        },
        {
          "output_type": "display_data",
          "data": {
            "text/plain": [
              "<Figure size 1080x360 with 1 Axes>"
            ],
            "image/png": "[encoded data removed]"
          },
          "metadata": {
            "needs_background": "light"
          }
        }
      ]
    },
    {
      "cell_type": "code",
      "source": [
        "#club oyuncuların /hangi pozisyonda ortalama oynadıkları  / gol saysına göre ortalaması\n",
        "#df.groupby([\"Position\",\"Club\"])[\"Goals\"].mean()\n",
        "sns.catplot(x='Position',y='Goals',hue=\"Club\",data=df,height=5, aspect=3)"
      ],
      "metadata": {
        "colab": {
          "base_uri": "https://localhost:8080/",
          "height": 386
        },
        "id": "dL1IE3qfE-rF",
        "outputId": "88b9c255-1dc6-473b-da20-569a7b2eed67"
      },
      "execution_count": 70,
      "outputs": [
        {
          "output_type": "execute_result",
          "data": {
            "text/plain": [
              "<seaborn.axisgrid.FacetGrid at 0x7f3a7ef5f910>"
            ]
          },
          "metadata": {},
          "execution_count": 70
        },
        {
          "output_type": "display_data",
          "data": {
            "text/plain": [
              "<Figure size 1251.5x360 with 1 Axes>"
            ],
            "image/png": "[encoded data removed]"
          },
          "metadata": {
            "needs_background": "light"
          }
        }
      ]
    },
    {
      "cell_type": "code",
      "source": [
        "#tek değişkenli Xg gol beklentisi  histogram cizimi Gol beklenti sayıları / çarpık bir dağılım var.\n",
        "sns.histplot(df.xG,kde=True,)"
      ],
      "metadata": {
        "colab": {
          "base_uri": "https://localhost:8080/",
          "height": 296
        },
        "id": "BkaXHwX9IZn2",
        "outputId": "047c4d20-97e0-4bb6-83f9-efc2d8932db6"
      },
      "execution_count": 73,
      "outputs": [
        {
          "output_type": "execute_result",
          "data": {
            "text/plain": [
              "<matplotlib.axes._subplots.AxesSubplot at 0x7f3a7cfbeed0>"
            ]
          },
          "metadata": {},
          "execution_count": 73
        },
        {
          "output_type": "display_data",
          "data": {
            "text/plain": [
              "<Figure size 432x288 with 1 Axes>"
            ],
            "image/png": "[encoded data removed]"
          },
          "metadata": {
            "needs_background": "light"
          }
        }
      ]
    },
    {
      "cell_type": "markdown",
      "source": [
        "#Koleragrasyon(Saçılım)grafiği Örnekleri"
      ],
      "metadata": {
        "id": "64JEs_xgKxuO"
      }
    },
    {
      "cell_type": "code",
      "source": [
        "#3 değişkenli  sayısal değişken için yaşı ile oynadığı maç sayısı oranı  Kolerasyon ilişkisi inceleniyor. \n",
        "age_mat=df.eval('Age/Matches').rename('Age / Matches Rates =')#yaş değişkeni ile maç sayısı eşit ağırlıklara bölüyor\n",
        "sns.scatterplot(x='Age',y='Matches',hue=age_mat ,size=age_mat,data=df)"
      ],
      "metadata": {
        "colab": {
          "base_uri": "https://localhost:8080/",
          "height": 296
        },
        "id": "nQ2Sps3zL5A5",
        "outputId": "9151392f-5189-4e26-96ea-03779f9f326e"
      },
      "execution_count": 121,
      "outputs": [
        {
          "output_type": "execute_result",
          "data": {
            "text/plain": [
              "<matplotlib.axes._subplots.AxesSubplot at 0x7f3a719a8250>"
            ]
          },
          "metadata": {},
          "execution_count": 121
        },
        {
          "output_type": "display_data",
          "data": {
            "text/plain": [
              "<Figure size 432x288 with 1 Axes>"
            ],
            "image/png": "[encoded data removed]"
          },
          "metadata": {
            "needs_background": "light"
          }
        }
      ]
    },
    {
      "cell_type": "code",
      "source": [
        "#Oyuncuların oynadıkları pozisyonlara göre maç sayıları ile gol bulma ilişkisi \n",
        "#Forwerd oyuncuların maç sayıları artıkca gol bulma oranları doğru orantılı artmış\n",
        "sns.lmplot(x='Matches',y='Goals',hue='Position', data=df )"
      ],
      "metadata": {
        "id": "cUdXTC9SRUfn",
        "colab": {
          "base_uri": "https://localhost:8080/",
          "height": 386
        },
        "outputId": "3e8c7b86-eb05-4d4c-9781-fe609c12014b"
      },
      "execution_count": 82,
      "outputs": [
        {
          "output_type": "execute_result",
          "data": {
            "text/plain": [
              "<seaborn.axisgrid.FacetGrid at 0x7f3a79b0d890>"
            ]
          },
          "metadata": {},
          "execution_count": 82
        },
        {
          "output_type": "display_data",
          "data": {
            "text/plain": [
              "<Figure size 429.125x360 with 1 Axes>"
            ],
            "image/png": "[encoded data removed]"
          },
          "metadata": {
            "needs_background": "light"
          }
        }
      ]
    },
    {
      "cell_type": "code",
      "source": [
        "#or v in df['Name']:\n",
        "  #  v='Harry Kane'\n",
        "   # break\n",
        "#sns.scatterplot(x='Matches',y='Goals',hue=v ,size=age_mat,data=df)"
      ],
      "metadata": {
        "id": "nqTzVq0GkSHC"
      },
      "execution_count": 123,
      "outputs": []
    },
    {
      "cell_type": "markdown",
      "source": [
        "#Hipotez testi oluşturulması ve testleri"
      ],
      "metadata": {
        "id": "50e7Puf9RI7c"
      }
    },
    {
      "cell_type": "code",
      "source": [
        "#Goals değişkeni için Normal uygunluk kontrol ediliyor, normal görünmüyor\n",
        "stats.probplot(df.Goals, dist='norm',plot=pylab )\n",
        "pylab.show()\n",
        "#Age değişkeni için Normal dağılıma uygun aranıyor, uygunluk görunuyor. alt kısımlarda uç noktalar şüphe uyandırdığı için shapiro testi yapılması öngürülüyor\n",
        "stats.probplot(df.Age, dist='norm',plot=pylab )\n",
        "pylab.show()"
      ],
      "metadata": {
        "colab": {
          "base_uri": "https://localhost:8080/",
          "height": 573
        },
        "id": "r_Z4ZLd7RRzN",
        "outputId": "7cb3e407-b619-41a9-efc0-84d77d2b4c2c"
      },
      "execution_count": null,
      "outputs": [
        {
          "output_type": "display_data",
          "data": {
            "text/plain": [
              "<Figure size 432x288 with 1 Axes>"
            ],
            "image/png": "[encoded data removed]"
          },
          "metadata": {
            "needs_background": "light"
          }
        },
        {
          "output_type": "display_data",
          "data": {
            "text/plain": [
              "<Figure size 432x288 with 1 Axes>"
            ],
            "image/png": "[encoded data removed]"
          },
          "metadata": {
            "needs_background": "light"
          }
        }
      ]
    },
    {
      "cell_type": "code",
      "source": [
        "#shapiro testi\n",
        "#H0 = Age değişkeni normal dağılma uygunmudur(yaş ortalamısı 25 beklenmektedir)\n",
        "#H1 = Age değişkeni normal dağılıma uygun değildir.\n",
        "from scipy.stats import shapiro\n",
        "stat,p=shapiro(df.Age)#statistic ve pvalue değerleri colablda direk yazmıyor\n",
        "print('test istatistiği = ', stat ,'p.value değeri = ', p)\n",
        "#P value değeri p<0.05 küçük olduğu için red ediliyor (p<0.05 ise red edilir. ..p value değeri p>0.05 ise veri normal dağılır)"
      ],
      "metadata": {
        "colab": {
          "base_uri": "https://localhost:8080/"
        },
        "id": "V0OqoKKfT20F",
        "outputId": "56a42aa6-8d7d-4c77-cae3-5c78e7923dd7"
      },
      "execution_count": null,
      "outputs": [
        {
          "output_type": "stream",
          "name": "stdout",
          "text": [
            "test istatistiği =  0.9883080720901489 p.value değeri =  0.00029534593340940773\n"
          ]
        }
      ]
    },
    {
      "cell_type": "code",
      "source": [
        "stats.ttest_1samp(shapiro(df.Age),popmean=25) #p=0.01<0.05 bu durumda Ho red edilir ,  lig yaş ortalaması 25 den farklıdır."
      ],
      "metadata": {
        "colab": {
          "base_uri": "https://localhost:8080/"
        },
        "id": "QEvP-AAdY6a8",
        "outputId": "2543951a-07a0-45af-f783-80253a437546"
      },
      "execution_count": null,
      "outputs": [
        {
          "output_type": "execute_result",
          "data": {
            "text/plain": [
              "Ttest_1sampResult(statistic=-49.60603774065276, pvalue=0.0128317758511709)"
            ]
          },
          "metadata": {},
          "execution_count": 27
        }
      ]
    },
    {
      "cell_type": "code",
      "source": [
        "#normale uygun görünmediği için işaret testi uygulanacak\n",
        "sign_test(shapiro(df.Age), 25)\n",
        "#0.5>0.05 bu durumda h0 red edilemez ,yaş ortalaması 25 eşit görünüyor"
      ],
      "metadata": {
        "colab": {
          "base_uri": "https://localhost:8080/"
        },
        "id": "K8_Trv0dasmE",
        "outputId": "556d0ca8-d565-4c0e-de93-ae8b7c053414"
      },
      "execution_count": null,
      "outputs": [
        {
          "output_type": "execute_result",
          "data": {
            "text/plain": [
              "(-1.0, 0.5)"
            ]
          },
          "metadata": {},
          "execution_count": 26
        }
      ]
    },
    {
      "cell_type": "markdown",
      "source": [
        "#İkili örneklem T testi"
      ],
      "metadata": {
        "id": "Vw0rtzjmP_us"
      }
    },
    {
      "cell_type": "code",
      "source": [
        "#2019 yılı gol beklentisi  ile 2020 yılı gol beklentisi eşitmidir\n",
        "#h0:19/20(xG)=20/21(xG)\n",
        "#h1:19/20(xG)/20/21(xG)\n",
        "stat,p=shapiro(df.xG)\n",
        "stat9,p9=shapiro(dfo.xG)\n",
        "print('2020 sezon gol beklentisi : ' ,'İstastistik : ',stat,'P value : ', p)\n",
        "print('2019 sezon gol beklentisi : ' ,'İstastistik : ',stat9,'P value : ', p9)\n",
        "#iki değişkende p value değeri >0.05 den büyük olduğu normal dağılama uygundur "
      ],
      "metadata": {
        "colab": {
          "base_uri": "https://localhost:8080/"
        },
        "id": "LPz8ySYnQCHB",
        "outputId": "0c0e8fc8-0261-4baa-d136-094e5c0cc29e"
      },
      "execution_count": null,
      "outputs": [
        {
          "output_type": "stream",
          "name": "stdout",
          "text": [
            "2020 sezon gol beklentisi :  İstastistik :  0.7448803782463074 P value :  8.265093689598824e-28\n",
            "2019 sezon gol beklentisi :  İstastistik :  0.9388089776039124 P value :  1.216631877437157e-14\n"
          ]
        }
      ]
    },
    {
      "cell_type": "code",
      "source": [
        "#varyans homejeni kontrolu levene testi\n",
        "#h0: varyanslar eşit (varyans homojen)\n",
        "#h1:varyanslar eşit değildir\n",
        "#p=1.3>0.05 olduğundan dolayı ho red edilemez varyanlar eşittir.\n",
        "stats.levene(df.xG,dfo.xG)"
      ],
      "metadata": {
        "colab": {
          "base_uri": "https://localhost:8080/"
        },
        "id": "M5tmHZH3kDmC",
        "outputId": "7a3abad9-af2f-4e10-8be1-08177f171237"
      },
      "execution_count": null,
      "outputs": [
        {
          "output_type": "execute_result",
          "data": {
            "text/plain": [
              "LeveneResult(statistic=506.0814937326203, pvalue=1.3876296622092675e-92)"
            ]
          },
          "metadata": {},
          "execution_count": 13
        }
      ]
    },
    {
      "cell_type": "code",
      "source": [
        "#t testi uygunluk kontrolu\n",
        "stats.ttest_ind(df.xG,dfo.xG, equal_var=True)\n",
        "##p=6.3>0.05 olduğundan dolayı h0 red edilemez.her iki sezon gol bulma ortalaması birb ."
      ],
      "metadata": {
        "colab": {
          "base_uri": "https://localhost:8080/"
        },
        "id": "Z02Lsqk4k74O",
        "outputId": "b8023a64-6d9d-48ad-ec20-65110fb8ac5e"
      },
      "execution_count": null,
      "outputs": [
        {
          "output_type": "execute_result",
          "data": {
            "text/plain": [
              "Ttest_indResult(statistic=-35.09131308019798, pvalue=6.396878577909208e-182)"
            ]
          },
          "metadata": {},
          "execution_count": 15
        }
      ]
    },
    {
      "cell_type": "code",
      "source": [
        "#NON paramatrik karşılı\n",
        "stats.mannwhitneyu(df.xG,dfo.xG)\n",
        "##p=1.4>0.05 olduğundan dolayı h0 red edilemez"
      ],
      "metadata": {
        "colab": {
          "base_uri": "https://localhost:8080/"
        },
        "id": "UOhNZvecmVvG",
        "outputId": "4b44957e-8f11-447d-e15c-5429867b2c15"
      },
      "execution_count": null,
      "outputs": [
        {
          "output_type": "execute_result",
          "data": {
            "text/plain": [
              "MannwhitneyuResult(statistic=4831.0, pvalue=1.4208539455571237e-171)"
            ]
          },
          "metadata": {},
          "execution_count": 20
        }
      ]
    }
  ]
}